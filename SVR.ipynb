{
 "cells": [
  {
   "cell_type": "code",
   "execution_count": 67,
   "metadata": {
    "collapsed": true
   },
   "outputs": [],
   "source": [
    "# importing necessary libraries\n",
    "import numpy as np\n",
    "import pandas as pd\n",
    "import matplotlib.pyplot as plt\n",
    "from sklearn.svm import SVR\n",
    "from sklearn.model_selection import train_test_split\n",
    "from sklearn.metrics import mean_absolute_error, r2_score\n",
    "from sklearn.decomposition import PCA\n",
    "from sklearn.externals.six import StringIO  \n",
    "from IPython.display import Image  \n",
    "from sklearn.tree import export_graphviz\n",
    "import pydotplus"
   ]
  },
  {
   "cell_type": "code",
   "execution_count": 68,
   "metadata": {
    "collapsed": true
   },
   "outputs": [],
   "source": [
    "def get_data():\n",
    "    #get train data\n",
    "    train_data_path ='train.csv'\n",
    "    train = pd.read_csv(train_data_path)\n",
    "    \n",
    "    #get test data\n",
    "    seed = 7\n",
    "    np.random.seed(seed)\n",
    "    train, validation = train_test_split(train, test_size=0.2, random_state=seed)    \n",
    "    return train,validation "
   ]
  },
  {
   "cell_type": "code",
   "execution_count": 69,
   "metadata": {
    "collapsed": true
   },
   "outputs": [],
   "source": [
    "train , validation = get_data()\n",
    "train_target = train.Servidas\n",
    "train.drop(['Servidas'],axis = 1 , inplace = True)\n",
    "validation_target=validation.Servidas\n",
    "validation.drop(['Servidas'],axis = 1 , inplace = True)"
   ]
  },
  {
   "cell_type": "code",
   "execution_count": 70,
   "metadata": {},
   "outputs": [
    {
     "data": {
      "text/plain": [
       "SVR(C=1.0, cache_size=200, coef0=0.0, degree=3, epsilon=0.2, gamma=0.001,\n",
       "  kernel='rbf', max_iter=-1, shrinking=True, tol=0.001, verbose=False)"
      ]
     },
     "execution_count": 70,
     "metadata": {},
     "output_type": "execute_result"
    }
   ],
   "source": [
    "model = SVR(kernel='rbf',gamma=0.001, C=1.0, epsilon=0.2)\n",
    "model.fit(train, train_target) "
   ]
  },
  {
   "cell_type": "code",
   "execution_count": 71,
   "metadata": {},
   "outputs": [
    {
     "name": "stdout",
     "output_type": "stream",
     "text": [
      "SVM MAE =  2450.71082785\n",
      "SVM R2 =  -0.0399533715884\n"
     ]
    }
   ],
   "source": [
    "predict1 = model.predict(validation)\n",
    "print('SVM MAE = ', mean_absolute_error(validation_target , predict1))\n",
    "print('SVM R2 = ', r2_score(validation_target , predict1))"
   ]
  },
  {
   "cell_type": "code",
   "execution_count": 72,
   "metadata": {},
   "outputs": [
    {
     "data": {
      "text/plain": [
       "SVR(C=1.0, cache_size=200, coef0=0.0, degree=3, epsilon=0.2, gamma=0.001,\n",
       "  kernel='linear', max_iter=-1, shrinking=True, tol=0.001, verbose=False)"
      ]
     },
     "execution_count": 72,
     "metadata": {},
     "output_type": "execute_result"
    }
   ],
   "source": [
    "model = SVR(kernel='linear',gamma=0.001, C=1.0, epsilon=0.2)\n",
    "model.fit(train, train_target) "
   ]
  },
  {
   "cell_type": "code",
   "execution_count": 73,
   "metadata": {},
   "outputs": [
    {
     "name": "stdout",
     "output_type": "stream",
     "text": [
      "SVM MAE =  1885.3747274\n",
      "SVM R2 =  0.371842815036\n"
     ]
    }
   ],
   "source": [
    "predict2 = model.predict(validation)\n",
    "print('SVM MAE = ', mean_absolute_error(validation_target , predict2))\n",
    "print('SVM R2 = ', r2_score(validation_target , predict2))"
   ]
  },
  {
   "cell_type": "code",
   "execution_count": 74,
   "metadata": {},
   "outputs": [
    {
     "data": {
      "text/plain": [
       "SVR(C=1.0, cache_size=200, coef0=0.0, degree=3, epsilon=0.2, gamma=0.001,\n",
       "  kernel='poly', max_iter=-1, shrinking=True, tol=0.001, verbose=False)"
      ]
     },
     "execution_count": 74,
     "metadata": {},
     "output_type": "execute_result"
    }
   ],
   "source": [
    "model = SVR(kernel='poly',gamma=0.001, C=1.0, epsilon=0.2)\n",
    "model.fit(train, train_target) "
   ]
  },
  {
   "cell_type": "code",
   "execution_count": 75,
   "metadata": {},
   "outputs": [
    {
     "name": "stdout",
     "output_type": "stream",
     "text": [
      "SVM MAE =  2199.51190224\n",
      "SVM R2 =  0.155013496887\n"
     ]
    }
   ],
   "source": [
    "predict3 = model.predict(validation)\n",
    "print('SVM MAE = ', mean_absolute_error(validation_target , predict3))\n",
    "print('SVM R2 = ', r2_score(validation_target , predict3))"
   ]
  },
  {
   "cell_type": "code",
   "execution_count": 76,
   "metadata": {
    "collapsed": true
   },
   "outputs": [],
   "source": [
    "# Plot the results\n",
    "validation_=validation.values[100:110,:]\n",
    "validation_target_=validation_target.values.reshape((validation_target.shape[0],1))[100:110,:]\n",
    "predict1_=predict1.reshape((predict1.shape[0],1))[100:110,:]\n",
    "predict2_=predict2.reshape((predict2.shape[0],1))[100:110,:]\n",
    "predict3_=predict3.reshape((predict2.shape[0],1))[100:110,:]\n",
    "validation_reduced = PCA(n_components=1).fit_transform(validation_)"
   ]
  },
  {
   "cell_type": "code",
   "execution_count": 82,
   "metadata": {},
   "outputs": [
    {
     "data": {
      "image/png": "[encoded data removed]",
      "text/plain": [
       "<Figure size 432x288 with 1 Axes>"
      ]
     },
     "metadata": {},
     "output_type": "display_data"
    }
   ],
   "source": [
    "# Look at the results\n",
    "lw = 2\n",
    "plt.scatter(validation_reduced, validation_target_, color='darkorange', label='data')\n",
    "plt.scatter(validation_reduced, predict1_, color='navy', lw=lw, label='RBF model')\n",
    "plt.scatter(validation_reduced, predict2_, color='c', lw=lw, label='Linear model')\n",
    "plt.scatter(validation_reduced, predict3_, color='cornflowerblue', lw=lw, label='Polynomial model')\n",
    "plt.xlabel('data')\n",
    "plt.ylabel('target')\n",
    "plt.title('Support Vector Regression')\n",
    "plt.legend()\n",
    "plt.show()"
   ]
  },
  {
   "cell_type": "code",
   "execution_count": null,
   "metadata": {
    "collapsed": true
   },
   "outputs": [],
   "source": []
  }
 ],
 "metadata": {
  "kernelspec": {
   "display_name": "Python 3",
   "language": "python",
   "name": "python3"
  },
  "language_info": {
   "codemirror_mode": {
    "name": "ipython",
    "version": 3
   },
   "file_extension": ".py",
   "mimetype": "text/x-python",
   "name": "python",
   "nbconvert_exporter": "python",
   "pygments_lexer": "ipython3",
   "version": "3.6.3"
  }
 },
 "nbformat": 4,
 "nbformat_minor": 2
}
