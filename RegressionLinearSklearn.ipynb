{
 "cells": [
  {
   "cell_type": "code",
   "execution_count": 1,
   "metadata": {
    "collapsed": true
   },
   "outputs": [],
   "source": [
    "import sys\n",
    "from io import StringIO\n",
    "import numpy as np\n",
    "import pandas as pd\n",
    "from sklearn import linear_model\n",
    "from sklearn.model_selection import train_test_split,KFold\n",
    "from sklearn.metrics import mean_squared_error,r2_score\n",
    "from math import sqrt\n",
    "import matplotlib.pyplot as plt\n",
    "import seaborn as sns\n",
    "from sklearn.decomposition import PCA\n",
    "from sklearn.preprocessing import StandardScaler"
   ]
  },
  {
   "cell_type": "code",
   "execution_count": 2,
   "metadata": {
    "collapsed": true
   },
   "outputs": [],
   "source": [
    "def get_data():\n",
    "    train_data_path ='train.csv'\n",
    "    train = pd.read_csv(train_data_path)\n",
    "    seed = 7\n",
    "    np.random.seed(seed)\n",
    "    train_target = train.Servidas\n",
    "    train.drop(['Servidas'],axis = 1 , inplace = True)\n",
    "    return train,train_target"
   ]
  },
  {
   "cell_type": "code",
   "execution_count": 3,
   "metadata": {
    "collapsed": true
   },
   "outputs": [],
   "source": [
    "train,train_target = get_data()\n",
    "k_flods=10"
   ]
  },
  {
   "cell_type": "code",
   "execution_count": 4,
   "metadata": {},
   "outputs": [
    {
     "name": "stdout",
     "output_type": "stream",
     "text": [
      "Mean squared error:1392.92\n",
      "r2 score:0.76\n"
     ]
    }
   ],
   "source": [
    "# Create linear regression object\n",
    "metrics=np.zeros((2,k_flods))\n",
    "regr = linear_model.LinearRegression(n_jobs=4)\n",
    "kf = KFold(n_splits=k_flods)\n",
    "kf.get_n_splits(train)\n",
    "i=0\n",
    "for train_index, test_index in kf.split(train):        \n",
    "    X_train, X_test = train.values[train_index], train.values[test_index]\n",
    "    y_train, y_test = train_target.values[train_index], train_target.values[test_index]    \n",
    "    regr.fit(X_train, y_train)   \n",
    "    validation_prediction = regr.predict(X_test)\n",
    "    validation_prediction=validation_prediction.astype(int)\n",
    "    metrics[0][i]=sqrt(mean_squared_error(y_test, validation_prediction))\n",
    "    metrics[1][i]=r2_score(y_test, validation_prediction)\n",
    "    i=i+1\n",
    "    \n",
    "metrics=np.sum(metrics, axis=1)/k_flods\n",
    "# LINEAR REGRESSION\n",
    "print(\"Mean squared error:%.2f\"%metrics[0])\n",
    "print(\"r2 score:%.2f\"%metrics[1])"
   ]
  },
  {
   "cell_type": "code",
   "execution_count": 5,
   "metadata": {
    "collapsed": true
   },
   "outputs": [],
   "source": [
    "# Print a small groups\n",
    "X_test=X_test[0:20,:]\n",
    "y_test=y_test.reshape((y_test.shape[0],1))[0:20,:]\n",
    "Data = PCA(n_components=1).fit_transform(X_test)\n",
    "validation_prediction=validation_prediction.reshape((validation_prediction.shape[0],1))[0:20]"
   ]
  },
  {
   "cell_type": "code",
   "execution_count": 6,
   "metadata": {},
   "outputs": [
    {
     "data": {
      "image/png": "[encoded data removed]",
      "text/plain": [
       "<Figure size 432x288 with 1 Axes>"
      ]
     },
     "metadata": {},
     "output_type": "display_data"
    }
   ],
   "source": [
    "y=pd.DataFrame(y_test, columns=['y'])\n",
    "x=pd.DataFrame(Data, columns=['x'])\n",
    "validation=pd.DataFrame(validation_prediction,columns=['val'])\n",
    "data_= pd.concat([x, validation,y], axis=1)\n",
    "data_\n",
    "#sns.pairplot(data_, palette=\"husl\",x_vars=[\"x\"],y_vars=[\"y\" , \"val\"], kind=\"reg\")\n",
    "sns.scatterplot(data=data_).set_title(\"Regression Linear\")\n",
    "plt.show()"
   ]
  },
  {
   "cell_type": "code",
   "execution_count": 7,
   "metadata": {},
   "outputs": [
    {
     "name": "stdout",
     "output_type": "stream",
     "text": [
      "Mean squared error:1093.89\n",
      "r2 score:0.86\n"
     ]
    }
   ],
   "source": [
    "# Create linear regression object\n",
    "train,train_target=get_data()\n",
    "metrics=np.zeros((2,k_flods))\n",
    "clf = linear_model.Lasso(alpha=1,max_iter=100000)\n",
    "kf = KFold(n_splits=k_flods)\n",
    "kf.get_n_splits(train)\n",
    "i=0\n",
    "for train_index, test_index in kf.split(train):        \n",
    "    X_train, X_test = train.values[train_index], train.values[test_index]\n",
    "    y_train, y_test = train_target.values[train_index], train_target.values[test_index]\n",
    "    clf.fit(X_train, y_train)\n",
    "    validation_prediction = clf.predict(X_test)\n",
    "    metrics[0][i]=sqrt(mean_squared_error(y_test, validation_prediction))\n",
    "    metrics[1][i]=r2_score(y_test, validation_prediction)\n",
    "    i=i+1\n",
    "    \n",
    "metrics=np.sum(metrics, axis=1)/k_flods\n",
    "# LINEAR REGRESSION LASSO\n",
    "print(\"Mean squared error:%.2f\"%metrics[0])\n",
    "print(\"r2 score:%.2f\"%metrics[1])"
   ]
  },
  {
   "cell_type": "code",
   "execution_count": 8,
   "metadata": {
    "collapsed": true
   },
   "outputs": [],
   "source": [
    "# Print a small groups\n",
    "X_test=X_test[0:20,:]\n",
    "y_test=y_test.reshape((y_test.shape[0],1))[0:20,:]\n",
    "Data = PCA(n_components=1).fit_transform(X_test)\n",
    "validation_prediction=validation_prediction.reshape((validation_prediction.shape[0],1))[0:20]"
   ]
  },
  {
   "cell_type": "code",
   "execution_count": 14,
   "metadata": {},
   "outputs": [
    {
     "data": {
      "image/png": "[encoded data removed]",
      "text/plain": [
       "<Figure size 432x288 with 1 Axes>"
      ]
     },
     "metadata": {},
     "output_type": "display_data"
    }
   ],
   "source": [
    "y=pd.DataFrame(y_test, columns=['y'])\n",
    "x=pd.DataFrame(Data, columns=['x'])\n",
    "validation=pd.DataFrame(validation_prediction,columns=['val'])\n",
    "data_= pd.concat([x, validation,y], axis=1)\n",
    "sns.scatterplot(data=data_).set_title(\"Regression Linear Lasso\")\n",
    "plt.show()"
   ]
  },
  {
   "cell_type": "code",
   "execution_count": 10,
   "metadata": {},
   "outputs": [
    {
     "name": "stdout",
     "output_type": "stream",
     "text": [
      "Mean squared error:1248.85\n",
      "r2 score:0.81\n"
     ]
    }
   ],
   "source": [
    "# Create linear regression object\n",
    "train,train_target=get_data()\n",
    "metrics=np.zeros((2,k_flods))\n",
    "ard = linear_model.Ridge(max_iter=1000000,alpha=0.01)\n",
    "kf = KFold(n_splits=k_flods)\n",
    "kf.get_n_splits(train)\n",
    "i=0\n",
    "for train_index, test_index in kf.split(train):        \n",
    "    X_train, X_test = train.values[train_index], train.values[test_index]\n",
    "    y_train, y_test = train_target.values[train_index], train_target.values[test_index]\n",
    "    ard.fit(X_train, y_train)\n",
    "    validation_prediction = ard.predict(X_test)\n",
    "    metrics[0][i]=sqrt(mean_squared_error(y_test, validation_prediction))\n",
    "    metrics[1][i]=r2_score(y_test, validation_prediction)\n",
    "    i=i+1\n",
    "    \n",
    "metrics=np.sum(metrics, axis=1)/k_flods\n",
    "# LINEAR REGRESSION Ridge\n",
    "print(\"Mean squared error:%.2f\"%metrics[0])\n",
    "print(\"r2 score:%.2f\"%metrics[1])"
   ]
  },
  {
   "cell_type": "code",
   "execution_count": 11,
   "metadata": {
    "collapsed": true
   },
   "outputs": [],
   "source": [
    "# Print a small groups\n",
    "X_test=X_test[0:20,:]\n",
    "y_test=y_test.reshape((y_test.shape[0],1))[0:20,:]\n",
    "Data = PCA(n_components=1).fit_transform(X_test)\n",
    "validation_prediction=validation_prediction.reshape((validation_prediction.shape[0],1))[0:20]"
   ]
  },
  {
   "cell_type": "code",
   "execution_count": 12,
   "metadata": {},
   "outputs": [
    {
     "data": {
      "image/png": "[encoded data removed]",
      "text/plain": [
       "<Figure size 432x288 with 1 Axes>"
      ]
     },
     "metadata": {},
     "output_type": "display_data"
    }
   ],
   "source": [
    "y=pd.DataFrame(y_test, columns=['y'])\n",
    "x=pd.DataFrame(Data, columns=['x'])\n",
    "validation=pd.DataFrame(validation_prediction,columns=['val'])\n",
    "data_= pd.concat([x, validation,y], axis=1)\n",
    "sns.scatterplot(data=data_).set_title(\"Regression Linear Ridge\")\n",
    "plt.show()"
   ]
  },
  {
   "cell_type": "code",
   "execution_count": null,
   "metadata": {
    "collapsed": true
   },
   "outputs": [],
   "source": []
  }
 ],
 "metadata": {
  "kernelspec": {
   "display_name": "Python 3",
   "language": "python",
   "name": "python3"
  },
  "language_info": {
   "codemirror_mode": {
    "name": "ipython",
    "version": 3
   },
   "file_extension": ".py",
   "mimetype": "text/x-python",
   "name": "python",
   "nbconvert_exporter": "python",
   "pygments_lexer": "ipython3",
   "version": "3.6.3"
  }
 },
 "nbformat": 4,
 "nbformat_minor": 2
}
