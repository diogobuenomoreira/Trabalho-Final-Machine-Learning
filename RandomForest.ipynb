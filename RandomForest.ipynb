{
 "cells": [
  {
   "cell_type": "markdown",
   "metadata": {},
   "source": [
    "# Random Forest Regresso"
   ]
  },
  {
   "cell_type": "code",
   "execution_count": 1,
   "metadata": {
    "collapsed": true
   },
   "outputs": [],
   "source": [
    "from sklearn.model_selection import train_test_split\n",
    "from sklearn.ensemble import RandomForestRegressor\n",
    "from sklearn.ensemble import AdaBoostRegressor\n",
    "from sklearn.metrics import mean_absolute_error, r2_score\n",
    "from sklearn.model_selection import train_test_split\n",
    "from matplotlib import pyplot as plt\n",
    "import seaborn as sb\n",
    "import matplotlib.pyplot as plt\n",
    "import pandas as pd\n",
    "import numpy as np\n",
    "from sklearn.decomposition import PCA\n",
    "from sklearn.externals.six import StringIO  \n",
    "from IPython.display import Image  \n",
    "from sklearn.tree import export_graphviz\n",
    "import pydotplus"
   ]
  },
  {
   "cell_type": "code",
   "execution_count": 2,
   "metadata": {
    "collapsed": true
   },
   "outputs": [],
   "source": [
    "def get_data():\n",
    "    #get train data\n",
    "    train_data_path ='train.csv'\n",
    "    train = pd.read_csv(train_data_path)\n",
    "    \n",
    "    #get test data\n",
    "    seed = 7\n",
    "    np.random.seed(seed)\n",
    "    train, validation = train_test_split(train, test_size=0.2, random_state=seed)    \n",
    "    return train,validation "
   ]
  },
  {
   "cell_type": "code",
   "execution_count": 3,
   "metadata": {
    "collapsed": true
   },
   "outputs": [],
   "source": [
    "train , validation = get_data()\n",
    "train_target = train.Servidas\n",
    "train.drop(['Servidas'],axis = 1 , inplace = True)\n",
    "validation_target=validation.Servidas\n",
    "validation.drop(['Servidas'],axis = 1 , inplace = True)"
   ]
  },
  {
   "cell_type": "code",
   "execution_count": 4,
   "metadata": {},
   "outputs": [
    {
     "data": {
      "text/plain": [
       "RandomForestRegressor(bootstrap=True, criterion='mse', max_depth=None,\n",
       "           max_features='auto', max_leaf_nodes=None,\n",
       "           min_impurity_decrease=0.0, min_impurity_split=None,\n",
       "           min_samples_leaf=1, min_samples_split=2,\n",
       "           min_weight_fraction_leaf=0.0, n_estimators=10, n_jobs=1,\n",
       "           oob_score=False, random_state=None, verbose=0, warm_start=False)"
      ]
     },
     "execution_count": 4,
     "metadata": {},
     "output_type": "execute_result"
    }
   ],
   "source": [
    "model1 = RandomForestRegressor()\n",
    "model1.fit(train,train_target)"
   ]
  },
  {
   "cell_type": "code",
   "execution_count": 5,
   "metadata": {},
   "outputs": [
    {
     "name": "stdout",
     "output_type": "stream",
     "text": [
      "Decision Tree Regressor MAE =  500.818294574\n",
      "Decision Tree Regressor R2 =  0.914248787156\n"
     ]
    }
   ],
   "source": [
    "predict1 = model1.predict(validation)\n",
    "print('Decision Tree Regressor MAE = ', mean_absolute_error(validation_target , predict1))\n",
    "print('Decision Tree Regressor R2 = ', r2_score(validation_target , predict1))"
   ]
  },
  {
   "cell_type": "code",
   "execution_count": 6,
   "metadata": {},
   "outputs": [
    {
     "data": {
      "text/plain": [
       "AdaBoostRegressor(base_estimator=RandomForestRegressor(bootstrap=True, criterion='mse', max_depth=None,\n",
       "           max_features='auto', max_leaf_nodes=None,\n",
       "           min_impurity_decrease=0.0, min_impurity_split=None,\n",
       "           min_samples_leaf=1, min_samples_split=2,\n",
       "           min_weight_fraction_leaf=0.0, n_estimators=10, n_jobs=1,\n",
       "           oob_score=False, random_state=None, verbose=0, warm_start=False),\n",
       "         learning_rate=1.0, loss='linear', n_estimators=300,\n",
       "         random_state=<mtrand.RandomState object at 0x7f0ad349f558>)"
      ]
     },
     "execution_count": 6,
     "metadata": {},
     "output_type": "execute_result"
    }
   ],
   "source": [
    "rng = np.random.RandomState(1)\n",
    "model2 = AdaBoostRegressor(RandomForestRegressor(),\n",
    "                          n_estimators=300, random_state=rng)\n",
    "model2.fit(train, train_target)"
   ]
  },
  {
   "cell_type": "code",
   "execution_count": 7,
   "metadata": {},
   "outputs": [
    {
     "name": "stdout",
     "output_type": "stream",
     "text": [
      "Decision Tree Regressor MAE =  499.863410853\n",
      "Decision Tree Regressor R2 =  0.915286468536\n"
     ]
    }
   ],
   "source": [
    "predict2 = model2.predict(validation)\n",
    "print('Decision Tree Regressor MAE = ', mean_absolute_error(validation_target , predict2))\n",
    "print('Decision Tree Regressor R2 = ', r2_score(validation_target , predict2))"
   ]
  },
  {
   "cell_type": "code",
   "execution_count": 8,
   "metadata": {
    "collapsed": true
   },
   "outputs": [],
   "source": [
    "# Plot the results\n",
    "validation_=validation.values[100:110,:]\n",
    "validation_target_=validation_target.values.reshape((validation_target.shape[0],1))[100:110,:]\n",
    "predict1_=predict1.reshape((predict1.shape[0],1))[100:110,:]\n",
    "predict2_=predict2.reshape((predict2.shape[0],1))[100:110,:]\n",
    "validation_reduced = PCA(n_components=1).fit_transform(validation_)"
   ]
  },
  {
   "cell_type": "code",
   "execution_count": 9,
   "metadata": {},
   "outputs": [
    {
     "data": {
      "image/png": "[encoded data removed]",
      "text/plain": [
       "<Figure size 432x288 with 1 Axes>"
      ]
     },
     "metadata": {},
     "output_type": "display_data"
    }
   ],
   "source": [
    "# A imagem mostra os dados verdadeiros em preto e em verde aqueles encontrados pela árvore de decisão\n",
    "plt.figure()\n",
    "plt.scatter(validation_reduced, validation_target_, c=\"k\", label=\"Training samples\")\n",
    "plt.scatter(validation_reduced,predict1_ , c=\"g\", label=\"Random Forest\")\n",
    "#plt.scatter(validation_reduced, predict2_, c=\"r\", label=\"n_estimators=300\")\n",
    "plt.xlabel(\"data\")\n",
    "plt.ylabel(\"target\")\n",
    "plt.title(\"Random Forest Regression\")\n",
    "plt.legend()\n",
    "plt.show()"
   ]
  },
  {
   "cell_type": "code",
   "execution_count": 10,
   "metadata": {},
   "outputs": [
    {
     "data": {
      "image/png": "[encoded data removed]",
      "text/plain": [
       "<Figure size 432x288 with 1 Axes>"
      ]
     },
     "metadata": {},
     "output_type": "display_data"
    }
   ],
   "source": [
    "# A imagem mostra os dados verdadeiros em preto e em vermelho aqueles encontrados pela árvore de decisão con ada boost\n",
    "plt.figure()\n",
    "plt.scatter(validation_reduced, validation_target_, c=\"k\", label=\"Training Samples\")\n",
    "#plt.scatter(validation_reduced,predict1_ , c=\"g\", label=\"Decision Tree\")\n",
    "plt.scatter(validation_reduced, predict2_, c=\"r\", label=\"Random Forest\")\n",
    "plt.xlabel(\"data\")\n",
    "plt.ylabel(\"target\")\n",
    "plt.title(\"Boosted Random Forest Regression\")\n",
    "plt.legend()\n",
    "plt.show()"
   ]
  },
  {
   "cell_type": "code",
   "execution_count": 11,
   "metadata": {},
   "outputs": [
    {
     "data": {
      "image/png": "[encoded data removed]",
      "text/plain": [
       "<Figure size 432x288 with 1 Axes>"
      ]
     },
     "metadata": {},
     "output_type": "display_data"
    }
   ],
   "source": [
    "# A imagem mostra os dados verdadeiros em preto e em verde aqueles encontrados pela árvore de decisão e \n",
    "# em vermelho aqueles encontrados pela árvore de decisão com ada boost, se pode ver que ada boost foi melhor\n",
    "plt.figure()\n",
    "plt.scatter(validation_reduced, validation_target_, c=\"k\", label=\"Training samples\")\n",
    "plt.scatter(validation_reduced,predict1_ , c=\"g\", label=\"Random Forest\")\n",
    "plt.scatter(validation_reduced, predict2_, c=\"r\", label=\"Boosted Random Forest\")\n",
    "plt.xlabel(\"data\")\n",
    "plt.ylabel(\"target\")\n",
    "plt.title(\"Boosted Random Forest Regression\")\n",
    "plt.legend()\n",
    "plt.show()"
   ]
  },
  {
   "cell_type": "code",
   "execution_count": null,
   "metadata": {
    "collapsed": true
   },
   "outputs": [],
   "source": []
  }
 ],
 "metadata": {
  "kernelspec": {
   "display_name": "Python 3",
   "language": "python",
   "name": "python3"
  },
  "language_info": {
   "codemirror_mode": {
    "name": "ipython",
    "version": 3
   },
   "file_extension": ".py",
   "mimetype": "text/x-python",
   "name": "python",
   "nbconvert_exporter": "python",
   "pygments_lexer": "ipython3",
   "version": "3.6.3"
  }
 },
 "nbformat": 4,
 "nbformat_minor": 2
}
